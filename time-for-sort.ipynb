{
 "cells": [
  {
   "cell_type": "markdown",
   "metadata": {},
   "source": [
    "### 常用排序算法速度比较\n",
    "\n",
    "Version: 0.1\n",
    "\n",
    "Author: 龚禔"
   ]
  },
  {
   "cell_type": "code",
   "execution_count": 1,
   "metadata": {},
   "outputs": [],
   "source": [
    "\"\"\"\n",
    "冒泡排序(Bubble Sort)\n",
    "第 1 轮：依次比较第 1 和第 2 个，第 2 和第 3 个，...，第 n-1 和第 n 个元素，大的向后移，第 1 大的移到倒数第 1 个位置\n",
    "第 2 轮：依次比较第 1 和第 2 个，第 2 和第 3 个，...，第 n-2 和第 n-1 个元素，大的向后移，第 2 大的移到倒数第 2 个位置\n",
    "...\n",
    "第 n-1 轮：比较第 1 和第 2 个，大的向后移，第 n-1 大的移到倒数第 n-1 个位置，所有元素排序完成\n",
    "\"\"\"\n",
    "\n",
    "def bubble_sort(nums):\n",
    "    n = len(nums)\n",
    "    for i in range(n-1):\n",
    "        for j in range(n-1-i):\n",
    "            if nums[j] > nums[j+1]:\n",
    "                nums[j], nums[j+1] = nums[j+1], nums[j]\n",
    "    return nums"
   ]
  },
  {
   "cell_type": "code",
   "execution_count": 2,
   "metadata": {},
   "outputs": [],
   "source": [
    "\"\"\"\n",
    "优化的冒泡排序(Optimized Bubble Sort)\n",
    "第 1 轮：依次比较第 1 和第 2 个，第 2 和第 3 个，...，第 n-1 和第 n 个元素，大的向后移，第 1 大的移到倒数第 1 个位置\n",
    "第 2 轮：依次比较第 1 和第 2 个，第 2 和第 3 个，...，第 n-2 和第 n-1 个元素，大的向后移，第 2 大的移到倒数第 2 个位置\n",
    "...\n",
    "直到某轮比较过程中，未发生任何交换，表明排序已完成\n",
    "\"\"\"\n",
    "\n",
    "def optimized_bubble_sort(nums):\n",
    "    n = len(nums)\n",
    "    for i in range(n-1):\n",
    "        swap = False\n",
    "        for j in range(n-1-i):\n",
    "            if nums[j] > nums[j+1]:\n",
    "                nums[j], nums[j+1] = nums[j+1], nums[j]\n",
    "                # 注意此处的实现细节，每轮只有第一次交换才会赋值 “swap = True”\n",
    "                if not swap:\n",
    "                    swap = True\n",
    "        if not swap:\n",
    "            break\n",
    "    return nums"
   ]
  },
  {
   "cell_type": "code",
   "execution_count": 3,
   "metadata": {},
   "outputs": [],
   "source": [
    "\"\"\"\n",
    "插入排序(Insersion Sort)\n",
    "第 1 轮：将第 2 个元素插到第 1 个元素的左边或右边，前 2 个元素排序完成\n",
    "第 2 轮：将第 3 个元素插到前 2 个元素的合适位置上，前 3 个元素排序完成\n",
    "...\n",
    "第 n-1 轮：将第 n 个元素插到前 n-1 个元素的合适位置上 (依次将其与第 n-1 个，第 n-2 个，...，第 1 个元素相比，若小于则交换位置，大于等于则跳出循环)，所有元素排序完成\n",
    "\"\"\"\n",
    "\n",
    "def insersion_sort(nums):\n",
    "    n = len(nums)\n",
    "    for i in range(n-1):\n",
    "        for j in range(i+1, 0, -1):\n",
    "            if nums[j] < nums[j-1]:\n",
    "                nums[j], nums[j-1] = nums[j-1], nums[j]\n",
    "            else:\n",
    "                break\n",
    "    return nums"
   ]
  },
  {
   "cell_type": "code",
   "execution_count": 4,
   "metadata": {},
   "outputs": [],
   "source": [
    "\"\"\"\n",
    "选择排序(Selection Sort)\n",
    "第 1 轮：从第 1 个元素开始，找到最小元素的指标，将该元素与第 1 个元素交换\n",
    "第 2 轮：从第 2 个元素开始，找到最小元素的指标，将该元素与第 2 个元素交换\n",
    "...\n",
    "第 n-1 轮：从第 n-1 个元素开始，找到最小元素的指标，将该元素与第 n-1 个元素交换\n",
    "\"\"\"\n",
    "\n",
    "def selection_sort(nums):\n",
    "    n = len(nums)\n",
    "    for i in range(n-1):\n",
    "        min_index = i\n",
    "        for j in range(i+1, n):\n",
    "            if nums[j] < nums[min_index]:\n",
    "                min_index = j\n",
    "        if min_index != i:\n",
    "            nums[i], nums[min_index] = nums[min_index], nums[i]\n",
    "    return nums"
   ]
  },
  {
   "cell_type": "code",
   "execution_count": 5,
   "metadata": {},
   "outputs": [],
   "source": [
    "\"\"\"\n",
    "归并排序(Merge Sort)\n",
    "1. 平均分割：把当前序列平均分割为两个子序列\n",
    "2. 递归排序：对以上两个子序列，分别递归地用归并排序法排序 (在递归调用过程中，若序列为空或只有一个元素，表明已经完成排序)\n",
    "3. 保序集成：将上一步得到的两个有序子列，保序集成到一起，完成整个序列的排序\n",
    "\"\"\"\n",
    "\n",
    "def merge(left, right):          # 保序集成算法\n",
    "    result = []\n",
    "    while left and right:\n",
    "        if left[0] < right[0]:\n",
    "            result.append(left.pop(0))\n",
    "        else:\n",
    "            result.append(right.pop(0))\n",
    "    if left:\n",
    "        result += left\n",
    "    if right:\n",
    "        result += right\n",
    "    return result\n",
    "\n",
    "def merge_sort(nums):\n",
    "    n = len(nums)\n",
    "    if n <= 1:                   # 若序列为空或只有一个元素，表明已经完成排序\n",
    "        return nums\n",
    "    m = n//2                     # 1. 平均分割\n",
    "    left = nums[:m]\n",
    "    right = nums[m:]\n",
    "    left = merge_sort(left)      # 2. 递归排序\n",
    "    right = merge_sort(right)\n",
    "    return merge(left, right)    # 3. 保序集成"
   ]
  },
  {
   "cell_type": "code",
   "execution_count": 6,
   "metadata": {},
   "outputs": [],
   "source": [
    "\"\"\"\n",
    "不佳快速排序(Poor Quick Sort)\n",
    "1. 挑选基准：选取序列的最后一个元素作为基准，其值为基准值\n",
    "2. 基准分割：对序列重新排序，所有比基准值小的元素放在基准前面，所有比基准值大的元素放在基准后面 (与基准值相等的元素可到任一边)，在这个分割结束之后，完成对基准的排序\n",
    "3. 递归排序：递归地将基准前面的子序列和基准后面的子序列用此快速排序法排序 (在递归调用过程中，若序列为空或只有一个元素，表明已经完成排序)\n",
    "\"\"\"\n",
    "\n",
    "def poor_quick_sort(nums):\n",
    "    n = len(nums)\n",
    "    if n <= 1:                # 若序列为空或只有一个元素，表明已经完成排序\n",
    "        return nums\n",
    "    less = []\n",
    "    more = []\n",
    "    pivot = nums.pop()        # 1. 挑选基准\n",
    "    for i in nums:            # 2. 基准分割\n",
    "        if i < pivot:\n",
    "            less.append(i)\n",
    "        else:\n",
    "            more.append(i)\n",
    "    nums.append(pivot)        # 这一句是为了让传入的 nums 保持不变\n",
    "    return poor_quick_sort(less) + [pivot] + poor_quick_sort(more)    # 3. 递归排序"
   ]
  },
  {
   "cell_type": "code",
   "execution_count": 7,
   "metadata": {},
   "outputs": [],
   "source": [
    "\"\"\"\n",
    "快速排序(Quick Sort)\n",
    "1. 挑选基准：从序列中随机选择一个元素作为基准，其值为基准值\n",
    "2. 基准分割：对序列重新排序，所有比基准值小的元素放在基准前面，所有比基准值大的元素放在基准后面 (与基准值相等的元素可到任一边)，在这个分割结束之后，完成对基准的排序\n",
    "3. 递归排序：递归地将基准前面的子序列和基准后面的子序列用此快速排序法排序 (在递归调用过程中，若序列为空或只有一个元素，表明已经完成排序)\n",
    "\"\"\"\n",
    "\n",
    "import random\n",
    "def quick_sort(nums):\n",
    "    n = len(nums)\n",
    "    if n <= 1:                         # 若序列为空或只有一个元素，表明已经完成排序\n",
    "        return nums\n",
    "    less = []\n",
    "    more = []\n",
    "    pivot_index = random.randrange(n)  # 1. 挑选基准\n",
    "    pivot = nums.pop(pivot_index)\n",
    "    for i in nums:                     # 2. 基准分割\n",
    "        if i < pivot:\n",
    "            less.append(i)\n",
    "        else:\n",
    "            more.append(i)\n",
    "    nums.insert(pivot_index, pivot)    # 这一句是为了让传入的 nums 保持不变\n",
    "    return quick_sort(less) + [pivot] + quick_sort(more)    # 3. 递归排序"
   ]
  },
  {
   "cell_type": "code",
   "execution_count": 8,
   "metadata": {},
   "outputs": [],
   "source": [
    "import random\n",
    "import time"
   ]
  },
  {
   "cell_type": "code",
   "execution_count": 9,
   "metadata": {},
   "outputs": [],
   "source": [
    "number = 10000\n",
    "methods = {bubble_sort: \"Bubble\", optimized_bubble_sort: \"Optimized Bubble\", insersion_sort: \"Insersion\", \n",
    "           selection_sort: \"Selection\", merge_sort: \"Merge\", quick_sort: \"Quick\", sorted: \"Tim\"}\n",
    "\n",
    "def is_sorted(nums):\n",
    "    n = len(nums)\n",
    "    for i in range(n-1):\n",
    "        if nums[i] > nums[i+1]:\n",
    "            return False\n",
    "    return True"
   ]
  },
  {
   "cell_type": "code",
   "execution_count": 10,
   "metadata": {
    "scrolled": true
   },
   "outputs": [
    {
     "name": "stdout",
     "output_type": "stream",
     "text": [
      "Bubble Sort Time for Integer: 20322.16 ms\n",
      "Optimized Bubble Sort Time for Integer: 20208.16 ms\n",
      "Insersion Sort Time for Integer: 15230.87 ms\n",
      "Selection Sort Time for Integer: 7843.45 ms\n",
      "Merge Sort Time for Integer: 108.01 ms\n",
      "Quick Sort Time for Integer: 37.00 ms\n",
      "Tim Sort Time for Integer: 2.00 ms\n"
     ]
    }
   ],
   "source": [
    "mylist = list(range(number))\n",
    "random.shuffle(mylist)\n",
    "\n",
    "for func in methods:\n",
    "    temp = mylist[:]\n",
    "    tic = time.time()\n",
    "    result = func(temp)\n",
    "    toc = time.time()\n",
    "    assert is_sorted(result) == True\n",
    "    print(methods[func] + \" Sort Time for Integer: %.2f ms\" %(1000. * (toc - tic)))"
   ]
  },
  {
   "cell_type": "code",
   "execution_count": 11,
   "metadata": {},
   "outputs": [
    {
     "name": "stdout",
     "output_type": "stream",
     "text": [
      "Bubble Sort Time for Float: 19414.11 ms\n",
      "Optimized Bubble Sort Time for Float: 19331.11 ms\n",
      "Insersion Sort Time for Float: 14290.82 ms\n",
      "Selection Sort Time for Float: 7933.45 ms\n",
      "Merge Sort Time for Float: 109.01 ms\n",
      "Quick Sort Time for Float: 37.00 ms\n",
      "Tim Sort Time for Float: 2.00 ms\n"
     ]
    }
   ],
   "source": [
    "mylist = [random.random() for i in range(number)]\n",
    "\n",
    "for func in methods:\n",
    "    temp = mylist[:]\n",
    "    tic = time.time()\n",
    "    result = func(temp)\n",
    "    toc = time.time()\n",
    "    assert is_sorted(result) == True\n",
    "    print(methods[func] + \" Sort Time for Float: %.2f ms\" %(1000. * (toc - tic)))"
   ]
  }
 ],
 "metadata": {
  "kernelspec": {
   "display_name": "Python 3",
   "language": "python",
   "name": "python3"
  },
  "language_info": {
   "codemirror_mode": {
    "name": "ipython",
    "version": 3
   },
   "file_extension": ".py",
   "mimetype": "text/x-python",
   "name": "python",
   "nbconvert_exporter": "python",
   "pygments_lexer": "ipython3",
   "version": "3.7.3"
  }
 },
 "nbformat": 4,
 "nbformat_minor": 2
}
